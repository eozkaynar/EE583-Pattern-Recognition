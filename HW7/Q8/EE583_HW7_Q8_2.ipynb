{
  "nbformat": 4,
  "nbformat_minor": 0,
  "metadata": {
    "colab": {
      "private_outputs": true,
      "provenance": []
    },
    "kernelspec": {
      "name": "python3",
      "display_name": "Python 3"
    },
    "accelerator": "GPU"
  },
  "cells": [
    {
      "cell_type": "code",
      "metadata": {
        "id": "ip_QvpbgYGW4"
      },
      "source": [
        "import torch\n",
        "import numpy as np\n",
        "import torchvision.datasets as datasets\n",
        "import torchvision.transforms as transforms\n",
        "import matplotlib.pyplot as plt\n",
        "from torchsummary import summary"
      ],
      "execution_count": null,
      "outputs": []
    },
    {
      "cell_type": "code",
      "metadata": {
        "id": "pWZV7kvz6fjA"
      },
      "source": [
        "#DEFINE YOUR DEVICE\n",
        "device = torch.device('cuda:0' if torch.cuda.is_available() else 'cpu')\n",
        "\n",
        "print(device) #if cpu, go Runtime-> Change runtime type-> Hardware accelerator GPU -> Save -> Redo previous steps"
      ],
      "execution_count": null,
      "outputs": []
    },
    {
      "cell_type": "code",
      "metadata": {
        "id": "0jj3xUVYLZo1"
      },
      "source": [
        "#DOWNLOAD CIFAR-10 DATASET\n",
        "train_data = datasets.CIFAR10('./data', train = True, download = True, transform = transforms.ToTensor())\n",
        "\n",
        "test_data = datasets.CIFAR10('./data', train = False, transform = transforms.ToTensor())"
      ],
      "execution_count": null,
      "outputs": []
    },
    {
      "cell_type": "code",
      "metadata": {
        "id": "bnFZEng8lg4a"
      },
      "source": [
        "#DEFINE DATA GENERATOR\n",
        "batch_size = 100\n",
        "train_generator = torch.utils.data.DataLoader(train_data, batch_size = batch_size, shuffle = True)\n",
        "\n",
        "test_generator = torch.utils.data.DataLoader(test_data, batch_size = batch_size, shuffle = False)"
      ],
      "execution_count": null,
      "outputs": []
    },
    {
      "cell_type": "code",
      "metadata": {
        "id": "Ptm-hTFZ8BI-",
        "cellView": "both"
      },
      "source": [
        "#DEFINE NEURAL NETWORK MODEL\n",
        "class CNN(torch.nn.Module):\n",
        "  def __init__(self):\n",
        "    super(CNN, self).__init__()\n",
        "    self.conv1 = torch.nn.Conv2d(3, 32, kernel_size = 3, stride = 1)\n",
        "    self.conv2 = torch.nn.Conv2d(32, 64, kernel_size = 3, stride = 1)\n",
        "    self.conv3 = torch.nn.Conv2d(64, 128, kernel_size = 3, stride = 1)\n",
        "    self.conv4 = torch.nn.Conv2d(128,256, kernel_size = 3, stride = 1)\n",
        "\n",
        "    self.mpool = torch.nn.MaxPool2d(2)\n",
        "\n",
        "    self.fc1 = torch.nn.Linear(1024, 2048)  # Increased output size to 1024\n",
        "    self.fc2 = torch.nn.Linear(2048, 256)  # Increased output size to 256\n",
        "    self.fc3 = torch.nn.Linear(256, 10)\n",
        "\n",
        "    self.relu = torch.nn.ReLU()\n",
        "    self.sigmoid = torch.nn.Sigmoid()\n",
        "    self.drop = torch.nn.Dropout(0.4)\n",
        "\n",
        "    self.bn1 =  torch.nn.BatchNorm2d(32)\n",
        "    self.bn2 =  torch.nn.BatchNorm2d(64)\n",
        "    self.bn3 =  torch.nn.BatchNorm2d(128)\n",
        "    self.bn4 =  torch.nn.BatchNorm2d(256)\n",
        "  def forward(self, x):\n",
        "    hidden = self.bn1(self.relu(self.conv1(x)))\n",
        "    hidden = self.mpool(self.bn2(self.relu(self.conv2(hidden))))\n",
        "    hidden = self.mpool(self.bn3(self.relu(self.conv3(hidden))))\n",
        "    hidden = self.mpool(self.bn4(self.relu(self.conv4(hidden))))\n",
        "    hidden = hidden.view(-1,1024)\n",
        "    hidden = self.relu(self.fc1(hidden))\n",
        "    hidden = self.drop(hidden)\n",
        "    hidden = self.relu(self.fc2(hidden))\n",
        "    hidden = self.drop(hidden)\n",
        "    output = self.fc3(hidden)\n",
        "    return output"
      ],
      "execution_count": null,
      "outputs": []
    },
    {
      "cell_type": "code",
      "metadata": {
        "id": "kD0yeYzVIHwT"
      },
      "source": [
        "#CREATE MODEL\n",
        "model = CNN()\n",
        "model.to(device)\n",
        "summary(model,(3,32,32))"
      ],
      "execution_count": null,
      "outputs": []
    },
    {
      "cell_type": "code",
      "metadata": {
        "id": "FpJqpIu2I0jd"
      },
      "source": [
        "#DEFINE LOSS FUNCTION AND OPTIMIZER\n",
        "learning_rate = 0.001\n",
        "\n",
        "loss_fun = torch.nn.CrossEntropyLoss()\n",
        "optimizer = torch.optim.Adam(model.parameters(), lr = learning_rate)"
      ],
      "execution_count": null,
      "outputs": []
    },
    {
      "cell_type": "code",
      "metadata": {
        "id": "DEuX6ORhJL6Z"
      },
      "source": [
        "#TRAIN THE MODEL\n",
        "model.train()\n",
        "epoch = 10\n",
        "\n",
        "num_of_batch=np.int32(len(train_generator.dataset)/batch_size)\n",
        "\n",
        "loss_values = np.zeros(epoch*num_of_batch)\n",
        "for i in range(epoch):\n",
        "  for batch_idx, (x_train, y_train) in enumerate(train_generator):\n",
        "    x_train, y_train = x_train.to(device), y_train.to(device)\n",
        "    optimizer.zero_grad()\n",
        "    y_pred = model(x_train)\n",
        "    loss = loss_fun(y_pred, y_train)\n",
        "    loss_values[num_of_batch*i+batch_idx] = loss.item()\n",
        "    loss.backward()\n",
        "    optimizer.step()\n",
        "    if (batch_idx+1) % batch_size == 0:\n",
        "        print('Epoch: {}/{} [Batch: {}/{} ({:.0f}%)]\\tLoss: {:.6f}'.format(\n",
        "            i+1, epoch, (batch_idx+1) * len(x_train), len(train_generator.dataset),\n",
        "            100. * (batch_idx+1) / len(train_generator), loss.item()))"
      ],
      "execution_count": null,
      "outputs": []
    },
    {
      "cell_type": "code",
      "metadata": {
        "id": "hIr5fl-KTWlX"
      },
      "source": [
        "#PLOT THE LEARNING CURVE\n",
        "iterations = np.linspace(0,epoch,num_of_batch*epoch)\n",
        "plt.plot(iterations, loss_values)\n",
        "plt.title('Learning Curve')\n",
        "plt.xlabel('Epoch')\n",
        "plt.ylabel('Loss')\n",
        "plt.grid('on')"
      ],
      "execution_count": null,
      "outputs": []
    },
    {
      "cell_type": "code",
      "metadata": {
        "id": "nz-XxC-dRwFk"
      },
      "source": [
        "#TEST THE MODEL\n",
        "model.eval()\n",
        "correct=0\n",
        "total=0\n",
        "\n",
        "for x_val, y_val in test_generator:\n",
        "  x_val = x_val.to(device)\n",
        "  y_val = y_val.to(device)\n",
        "\n",
        "  output = model(x_val)\n",
        "  y_pred = output.argmax(dim=1)\n",
        "\n",
        "  for i in range(y_pred.shape[0]):\n",
        "    if y_val[i]==y_pred[i]:\n",
        "      correct += 1\n",
        "    total +=1\n",
        "\n",
        "print('Validation accuracy: %.2f%%' %((100*correct)//(total)))"
      ],
      "execution_count": null,
      "outputs": []
    }
  ]
}