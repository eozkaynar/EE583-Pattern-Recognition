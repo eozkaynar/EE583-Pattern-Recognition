{
  "nbformat": 4,
  "nbformat_minor": 0,
  "metadata": {
    "colab": {
      "private_outputs": true,
      "provenance": [],
      "gpuType": "T4"
    },
    "kernelspec": {
      "name": "python3",
      "display_name": "Python 3"
    },
    "accelerator": "GPU"
  },
  "cells": [
    {
      "cell_type": "code",
      "metadata": {
        "id": "ip_QvpbgYGW4"
      },
      "source": [
        "import torch\n",
        "import numpy as np\n",
        "from sklearn.datasets import make_blobs\n",
        "import matplotlib.pyplot as plt"
      ],
      "execution_count": null,
      "outputs": []
    },
    {
      "cell_type": "code",
      "source": [
        "def part1PlotBoundary(X, y, nn):\n",
        "    \"\"\"\n",
        "    Plots the decision boundary for a given neural network model.\n",
        "\n",
        "    Parameters:\n",
        "    - X (torch.Tensor): Input features, shape (n_samples, 2).\n",
        "    - y (torch.Tensor): Ground truth labels, shape (n_samples,).\n",
        "    - nn (torch.nn.Module): Trained neural network model.\n",
        "\n",
        "    Returns:\n",
        "    - None: Displays a decision boundary plot.\n",
        "    \"\"\"\n",
        "\n",
        "    # Step size for the mesh grid\n",
        "    h = 0.01\n",
        "\n",
        "    # Define the grid boundaries\n",
        "    x_min, x_max = X[:, 0].min().cpu().item() - 0.1, X[:, 0].max().cpu().item() + 0.1\n",
        "    y_min, y_max = X[:, 1].min().cpu().item() - 0.1, X[:, 1].max().cpu().item() + 0.1\n",
        "\n",
        "    # Create a mesh grid\n",
        "    xx, yy = np.meshgrid(np.arange(x_min, x_max, h), np.arange(y_min, y_max, h))\n",
        "\n",
        "    # Generate predictions over the grid\n",
        "    grid_points = torch.tensor(np.c_[xx.ravel(), yy.ravel()], dtype=torch.float32).to(device)\n",
        "    with torch.no_grad():  # Disable gradient computation\n",
        "        Z = nn(grid_points)  # Forward pass\n",
        "    Z = Z.detach().cpu().numpy()  # Move to CPU and convert to NumPy\n",
        "    Z = Z.reshape(xx.shape)  # Reshape to match the grid\n",
        "\n",
        "    # Plot the filled contour for the decision regions\n",
        "    plt.contourf(xx, yy, Z, levels=[0, 0.5, 1], colors=['lightblue', 'lightcoral'], alpha=0.5)\n",
        "\n",
        "    # Add contour line for the decision boundary\n",
        "    plt.contour(xx, yy, Z, levels=[0.5], colors='black')\n",
        "\n",
        "    # Plot data points\n",
        "    plt.scatter(X[:, 0].cpu().numpy(), X[:, 1].cpu().numpy(), c=y.cpu().numpy().flatten(), cmap=plt.cm.RdYlBu, edgecolor='k')\n",
        "\n",
        "    # Labels and title\n",
        "    plt.xlabel('X1')\n",
        "    plt.ylabel('X2')\n",
        "    plt.title('Decision Boundary')\n",
        "    plt.show()\n"
      ],
      "metadata": {
        "id": "nY7JGT1fqWb8"
      },
      "execution_count": null,
      "outputs": []
    },
    {
      "cell_type": "code",
      "metadata": {
        "id": "pWZV7kvz6fjA"
      },
      "source": [
        "#DEFINE YOUR DEVICE\n",
        "device = torch.device('cuda:0' if torch.cuda.is_available() else 'cpu')\n",
        "\n",
        "print(device) #if cpu, go Runtime-> Change runtime type-> Hardware accelerator GPU -> Save -> Redo previous steps"
      ],
      "execution_count": null,
      "outputs": []
    },
    {
      "cell_type": "code",
      "metadata": {
        "id": "m3RusEej6B5R"
      },
      "source": [
        "#CREATE A RANDOM DATASET\n",
        "centers = [[1, 1], [1, -1], [-1, -1], [-1, 1]] #center of each class\n",
        "cluster_std=0.4 #standard deviation of random gaussian samples\n",
        "\n",
        "x_train, y_train = make_blobs(n_samples=1000, centers=centers, n_features=2, cluster_std=cluster_std, shuffle=True)\n",
        "y_train[y_train==2] = 0 #make this an xor problem\n",
        "y_train[y_train==3] = 1 #make this an xor problem\n",
        "x_train = torch.FloatTensor(x_train)\n",
        "y_train = torch.FloatTensor(y_train)\n",
        "\n",
        "x_val, y_val = make_blobs(n_samples=100, centers=centers, n_features=2, cluster_std=cluster_std, shuffle=True)\n",
        "y_val[y_val==2] = 0 #make this an xor problem\n",
        "y_val[y_val==3] = 1 #make this an xor problem\n",
        "x_val = torch.FloatTensor(x_val)\n",
        "y_val = torch.FloatTensor(y_val)"
      ],
      "execution_count": null,
      "outputs": []
    },
    {
      "cell_type": "code",
      "metadata": {
        "id": "V3QoC3Em5lOt"
      },
      "source": [
        "#CHECK THE BLOBS ON XY PLOT\n",
        "plt.scatter(x_train[y_train==0,0],x_train[y_train==0,1],marker='o',color='blue')\n",
        "plt.scatter(x_train[y_train==1,0],x_train[y_train==1,1],marker='o',color='red')"
      ],
      "execution_count": null,
      "outputs": []
    },
    {
      "cell_type": "code",
      "metadata": {
        "id": "Ptm-hTFZ8BI-"
      },
      "source": [
        "#DEFINE NEURAL NETWORK MODEL\n",
        "class FullyConnected(torch.nn.Module):\n",
        "  def __init__(self, input_size, hidden_size, num_classes):\n",
        "    super(FullyConnected, self).__init__()\n",
        "    self.input_size = input_size\n",
        "    self.hidden_size  = hidden_size\n",
        "    self.fc1 = torch.nn.Linear(self.input_size, self.hidden_size)\n",
        "    self.fc2 = torch.nn.Linear(self.hidden_size, num_classes)\n",
        "    self.relu = torch.nn.ReLU()\n",
        "    self.sigmoid = torch.nn.Sigmoid()\n",
        "  def forward(self, x):\n",
        "    hidden = self.fc1(x)\n",
        "    relu = self.relu(hidden)\n",
        "    output = self.fc2(relu)\n",
        "    return output"
      ],
      "execution_count": null,
      "outputs": []
    },
    {
      "cell_type": "code",
      "source": [
        "class FullyConnected2(torch.nn.Module):\n",
        "    def __init__(self, input_size, hidden_size, num_classes):\n",
        "      super(FullyConnected2, self).__init__()\n",
        "      self.input_size = input_size\n",
        "      self.hidden_size  = hidden_size\n",
        "      self.fc1 = torch.nn.Linear(self.input_size, self.hidden_size)\n",
        "      self.fc2 = torch.nn.Linear(self.hidden_size, self.hidden_size*4,)\n",
        "      self.fc3 = torch.nn.Linear(self.hidden_size*4, self.hidden_size*2,)\n",
        "      self.fc4 = torch.nn.Linear(self.hidden_size*2, num_classes)\n",
        "      self.relu = torch.nn.ReLU()\n",
        "      self.sigmoid = torch.nn.Sigmoid()\n",
        "    def forward(self, x):\n",
        "      hidden = self.fc1(x)\n",
        "      relu = self.relu(hidden)\n",
        "      hidden2 = self.fc2(relu)\n",
        "      relu2 = self.relu(hidden2)\n",
        "      hidden3 = self.fc3(relu2)\n",
        "      relu3 = self.relu(hidden3)\n",
        "      output = self.fc4(relu3)\n",
        "      return output"
      ],
      "metadata": {
        "id": "l-qJ27XNyfuQ"
      },
      "execution_count": null,
      "outputs": []
    },
    {
      "cell_type": "code",
      "source": [
        "# Fully Connected Network for Question 5\n",
        "class FullyConnected3(torch.nn.Module):\n",
        "  def __init__(self, input_size, hidden_size, num_classes):\n",
        "    super(FullyConnected3, self).__init__()\n",
        "    self.input_size = input_size\n",
        "    self.hidden_size  = hidden_size\n",
        "    self.fc1 = torch.nn.Linear(self.input_size, self.hidden_size)\n",
        "    self.fc2 = torch.nn.Linear(self.hidden_size, num_classes)\n",
        "    self.relu = torch.nn.ReLU()\n",
        "    self.sigmoid = torch.nn.Sigmoid()\n",
        "    self.dropout = torch.nn.Dropout(0.5)\n",
        "  def forward(self, x):\n",
        "    hidden = self.fc1(x)\n",
        "    relu = self.relu(hidden)\n",
        "    dropped = self.dropout(relu)\n",
        "    output = self.fc2(dropped)\n",
        "    return output"
      ],
      "metadata": {
        "id": "k4ScevE_9wC0"
      },
      "execution_count": null,
      "outputs": []
    },
    {
      "cell_type": "code",
      "metadata": {
        "id": "kD0yeYzVIHwT"
      },
      "source": [
        "#CREATE MODEL\n",
        "input_size = 2\n",
        "hidden_size = 64\n",
        "num_classes = 1\n",
        "\n",
        "model = FullyConnected(input_size, hidden_size, num_classes)\n",
        "model.to(device)"
      ],
      "execution_count": null,
      "outputs": []
    },
    {
      "cell_type": "code",
      "metadata": {
        "id": "FpJqpIu2I0jd"
      },
      "source": [
        "#DEFINE LOSS FUNCTION AND OPTIMIZER\n",
        "learning_rate = 0.001\n",
        "momentum = 0.99\n",
        "\n",
        "loss_fun = torch.nn.MSELoss()\n",
        "optimizer = torch.optim.SGD(model.parameters(), lr = learning_rate, momentum = momentum)"
      ],
      "execution_count": null,
      "outputs": []
    },
    {
      "cell_type": "code",
      "metadata": {
        "id": "DEuX6ORhJL6Z"
      },
      "source": [
        "#TRAIN THE MODEL\n",
        "model.train()\n",
        "epoch = 500\n",
        "x_train = x_train.to(device)\n",
        "y_train = y_train.to(device)\n",
        "\n",
        "loss_values = np.zeros(epoch)\n",
        "\n",
        "for i in range(epoch):\n",
        "    optimizer.zero_grad()\n",
        "    y_pred = model(x_train)    # forward\n",
        "    #reshape y_pred from (n_samples,1) to (n_samples), so y_pred and y_train have the same shape\n",
        "    y_pred = y_pred.reshape(y_pred.shape[0])\n",
        "\n",
        "    loss = loss_fun(y_pred, y_train)\n",
        "\n",
        "    loss_values[i] = loss.item()\n",
        "    print('Epoch {}: train loss: {}'.format(i, loss.item()))\n",
        "    loss.backward() #backward\n",
        "    optimizer.step()"
      ],
      "execution_count": null,
      "outputs": []
    },
    {
      "cell_type": "code",
      "metadata": {
        "id": "hIr5fl-KTWlX"
      },
      "source": [
        "#PLOT THE LEARNING CURVE\n",
        "plt.plot(loss_values)\n",
        "plt.title('Learning Curve')\n",
        "plt.xlabel('Epoch')\n",
        "plt.ylabel('Loss')\n",
        "plt.grid('on')"
      ],
      "execution_count": null,
      "outputs": []
    },
    {
      "cell_type": "code",
      "metadata": {
        "id": "nz-XxC-dRwFk"
      },
      "source": [
        "#TEST THE MODEL\n",
        "model.eval()\n",
        "\n",
        "x_val = x_val.to(device)\n",
        "y_val = y_val.to(device)\n",
        "\n",
        "y_pred = model(x_val)\n",
        "#reshape y_pred from (n_samples,1) to (n_samples), so y_pred and y_val have the same shape\n",
        "y_pred = y_pred.reshape(y_pred.shape[0])\n",
        "after_train = loss_fun(y_pred, y_val)\n",
        "print('Validation loss after Training' , after_train.item())\n",
        "\n",
        "correct=0\n",
        "total=0\n",
        "for i in range(y_pred.shape[0]):\n",
        "  if y_val[i]==torch.round(y_pred[i]):\n",
        "    correct += 1\n",
        "  total +=1\n",
        "\n",
        "print('Validation accuracy: %.2f%%' %((100*correct)//(total)))"
      ],
      "execution_count": null,
      "outputs": []
    },
    {
      "cell_type": "code",
      "source": [
        "# Similarly for validation data\n",
        "x_val = torch.tensor(x_val, dtype=torch.float32).to(device)\n",
        "y_val = torch.tensor(y_val, dtype=torch.float32).to(device)\n",
        "part1PlotBoundary(x_val, y_val, model)"
      ],
      "metadata": {
        "id": "QuQ_gGuLqdwK"
      },
      "execution_count": null,
      "outputs": []
    },
    {
      "cell_type": "code",
      "source": [],
      "metadata": {
        "id": "-lN1DHFYr0-n"
      },
      "execution_count": null,
      "outputs": []
    }
  ]
}